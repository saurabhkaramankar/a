{
 "cells": [
  {
   "cell_type": "markdown",
   "metadata": {},
   "source": [
    "## Part-of-Speech tagging using CRF\n",
    "\n",
    "This project involves Parts Of Speech (POS) tagging using Conditional Random Fields (CRF) approach to achieve better accuracy than traditional HMM POS tagging techniques. The following steps are followed:\n",
    "\n",
    "1. Data Preparation.\n",
    "2. Define Feature Functions.\n",
    "3. Train a CRF classifier with Grid Search  cross validation to find CRF model with best hyperparameters.\n",
    "4. Checking accuracy of best CRF model on validation and test sets.\n",
    "5. Find important state and transition features."
   ]
  },
  {
   "cell_type": "markdown",
   "metadata": {},
   "source": [
    "### Data Preparation"
   ]
  },
  {
   "cell_type": "code",
   "execution_count": 57,
   "metadata": {},
   "outputs": [],
   "source": [
    "#Importing libraries\n",
    "import nltk, re, pprint\n",
    "import numpy as np\n",
    "import pandas as pd\n",
    "import pprint, time\n",
    "import random\n",
    "from sklearn.model_selection import train_test_split\n",
    "from nltk.tokenize import word_tokenize\n",
    "import sklearn\n",
    "\n",
    "import sklearn_crfsuite\n",
    "from sklearn_crfsuite import metrics\n",
    "from sklearn_crfsuite import scorers\n",
    "from sklearn.model_selection import GridSearchCV\n",
    "\n",
    "import matplotlib.pyplot as plt"
   ]
  },
  {
   "cell_type": "code",
   "execution_count": 2,
   "metadata": {},
   "outputs": [],
   "source": [
    "# reading the Treebank tagged sentences\n",
    "wsj = list(nltk.corpus.treebank.tagged_sents(tagset='universal'))"
   ]
  },
  {
   "cell_type": "code",
   "execution_count": 3,
   "metadata": {},
   "outputs": [
    {
     "name": "stdout",
     "output_type": "stream",
     "text": [
      "[[('Pierre', 'NOUN'), ('Vinken', 'NOUN'), (',', '.'), ('61', 'NUM'), ('years', 'NOUN'), ('old', 'ADJ'), (',', '.'), ('will', 'VERB'), ('join', 'VERB'), ('the', 'DET'), ('board', 'NOUN'), ('as', 'ADP'), ('a', 'DET'), ('nonexecutive', 'ADJ'), ('director', 'NOUN'), ('Nov.', 'NOUN'), ('29', 'NUM'), ('.', '.')], [('Mr.', 'NOUN'), ('Vinken', 'NOUN'), ('is', 'VERB'), ('chairman', 'NOUN'), ('of', 'ADP'), ('Elsevier', 'NOUN'), ('N.V.', 'NOUN'), (',', '.'), ('the', 'DET'), ('Dutch', 'NOUN'), ('publishing', 'VERB'), ('group', 'NOUN'), ('.', '.')]]\n",
      "3914\n"
     ]
    }
   ],
   "source": [
    "# first few tagged sentences\n",
    "print(wsj[:2])\n",
    "print(len(wsj))"
   ]
  },
  {
   "cell_type": "code",
   "execution_count": 4,
   "metadata": {},
   "outputs": [],
   "source": [
    "# reading the Brown tagged sentences\n",
    "brown= list(nltk.corpus.brown.tagged_sents(tagset='universal'))"
   ]
  },
  {
   "cell_type": "code",
   "execution_count": 5,
   "metadata": {
    "scrolled": true
   },
   "outputs": [
    {
     "name": "stdout",
     "output_type": "stream",
     "text": [
      "[[('The', 'DET'), ('Fulton', 'NOUN'), ('County', 'NOUN'), ('Grand', 'ADJ'), ('Jury', 'NOUN'), ('said', 'VERB'), ('Friday', 'NOUN'), ('an', 'DET'), ('investigation', 'NOUN'), ('of', 'ADP'), (\"Atlanta's\", 'NOUN'), ('recent', 'ADJ'), ('primary', 'NOUN'), ('election', 'NOUN'), ('produced', 'VERB'), ('``', '.'), ('no', 'DET'), ('evidence', 'NOUN'), (\"''\", '.'), ('that', 'ADP'), ('any', 'DET'), ('irregularities', 'NOUN'), ('took', 'VERB'), ('place', 'NOUN'), ('.', '.')], [('The', 'DET'), ('jury', 'NOUN'), ('further', 'ADV'), ('said', 'VERB'), ('in', 'ADP'), ('term-end', 'NOUN'), ('presentments', 'NOUN'), ('that', 'ADP'), ('the', 'DET'), ('City', 'NOUN'), ('Executive', 'ADJ'), ('Committee', 'NOUN'), (',', '.'), ('which', 'DET'), ('had', 'VERB'), ('over-all', 'ADJ'), ('charge', 'NOUN'), ('of', 'ADP'), ('the', 'DET'), ('election', 'NOUN'), (',', '.'), ('``', '.'), ('deserves', 'VERB'), ('the', 'DET'), ('praise', 'NOUN'), ('and', 'CONJ'), ('thanks', 'NOUN'), ('of', 'ADP'), ('the', 'DET'), ('City', 'NOUN'), ('of', 'ADP'), ('Atlanta', 'NOUN'), (\"''\", '.'), ('for', 'ADP'), ('the', 'DET'), ('manner', 'NOUN'), ('in', 'ADP'), ('which', 'DET'), ('the', 'DET'), ('election', 'NOUN'), ('was', 'VERB'), ('conducted', 'VERB'), ('.', '.')]]\n",
      "57340\n"
     ]
    }
   ],
   "source": [
    "# first few tagged sentences\n",
    "print(brown[:2])\n",
    "print(len(brown))"
   ]
  },
  {
   "cell_type": "code",
   "execution_count": 6,
   "metadata": {},
   "outputs": [],
   "source": [
    "# reading the conll2000 tagged sentences\n",
    "conll2000= list(nltk.corpus.conll2000.tagged_sents(tagset='universal'))"
   ]
  },
  {
   "cell_type": "code",
   "execution_count": 7,
   "metadata": {},
   "outputs": [
    {
     "name": "stdout",
     "output_type": "stream",
     "text": [
      "[[('Confidence', 'NOUN'), ('in', 'ADP'), ('the', 'DET'), ('pound', 'NOUN'), ('is', 'VERB'), ('widely', 'ADV'), ('expected', 'VERB'), ('to', 'PRT'), ('take', 'VERB'), ('another', 'DET'), ('sharp', 'ADJ'), ('dive', 'NOUN'), ('if', 'ADP'), ('trade', 'NOUN'), ('figures', 'NOUN'), ('for', 'ADP'), ('September', 'NOUN'), (',', '.'), ('due', 'ADJ'), ('for', 'ADP'), ('release', 'NOUN'), ('tomorrow', 'NOUN'), (',', '.'), ('fail', 'VERB'), ('to', 'PRT'), ('show', 'VERB'), ('a', 'DET'), ('substantial', 'ADJ'), ('improvement', 'NOUN'), ('from', 'ADP'), ('July', 'NOUN'), ('and', 'CONJ'), ('August', 'NOUN'), (\"'s\", 'PRT'), ('near-record', 'ADJ'), ('deficits', 'NOUN'), ('.', '.')], [('Chancellor', 'NOUN'), ('of', 'ADP'), ('the', 'DET'), ('Exchequer', 'NOUN'), ('Nigel', 'NOUN'), ('Lawson', 'NOUN'), (\"'s\", 'PRT'), ('restated', 'VERB'), ('commitment', 'NOUN'), ('to', 'PRT'), ('a', 'DET'), ('firm', 'NOUN'), ('monetary', 'ADJ'), ('policy', 'NOUN'), ('has', 'VERB'), ('helped', 'VERB'), ('to', 'PRT'), ('prevent', 'VERB'), ('a', 'DET'), ('freefall', 'NOUN'), ('in', 'ADP'), ('sterling', 'NOUN'), ('over', 'ADP'), ('the', 'DET'), ('past', 'ADJ'), ('week', 'NOUN'), ('.', '.')]]\n",
      "10948\n"
     ]
    }
   ],
   "source": [
    "# first few tagged sentences\n",
    "print(conll2000[:2])\n",
    "print(len(conll2000))"
   ]
  },
  {
   "cell_type": "code",
   "execution_count": 8,
   "metadata": {},
   "outputs": [],
   "source": [
    "nltk_data = wsj + brown + conll2000"
   ]
  },
  {
   "cell_type": "code",
   "execution_count": 9,
   "metadata": {},
   "outputs": [
    {
     "name": "stdout",
     "output_type": "stream",
     "text": [
      "[[('Pierre', 'NOUN'), ('Vinken', 'NOUN'), (',', '.'), ('61', 'NUM'), ('years', 'NOUN'), ('old', 'ADJ'), (',', '.'), ('will', 'VERB'), ('join', 'VERB'), ('the', 'DET'), ('board', 'NOUN'), ('as', 'ADP'), ('a', 'DET'), ('nonexecutive', 'ADJ'), ('director', 'NOUN'), ('Nov.', 'NOUN'), ('29', 'NUM'), ('.', '.')], [('Mr.', 'NOUN'), ('Vinken', 'NOUN'), ('is', 'VERB'), ('chairman', 'NOUN'), ('of', 'ADP'), ('Elsevier', 'NOUN'), ('N.V.', 'NOUN'), (',', '.'), ('the', 'DET'), ('Dutch', 'NOUN'), ('publishing', 'VERB'), ('group', 'NOUN'), ('.', '.')]]\n",
      "72202\n"
     ]
    }
   ],
   "source": [
    "print(nltk_data[:2])\n",
    "print(len(nltk_data))"
   ]
  },
  {
   "cell_type": "code",
   "execution_count": 10,
   "metadata": {},
   "outputs": [
    {
     "data": {
      "text/plain": [
       "[('Mr.', 'NOUN'),\n",
       " ('Vinken', 'NOUN'),\n",
       " ('is', 'VERB'),\n",
       " ('chairman', 'NOUN'),\n",
       " ('of', 'ADP'),\n",
       " ('Elsevier', 'NOUN'),\n",
       " ('N.V.', 'NOUN'),\n",
       " (',', '.'),\n",
       " ('the', 'DET'),\n",
       " ('Dutch', 'NOUN'),\n",
       " ('publishing', 'VERB'),\n",
       " ('group', 'NOUN'),\n",
       " ('.', '.')]"
      ]
     },
     "execution_count": 10,
     "metadata": {},
     "output_type": "execute_result"
    }
   ],
   "source": [
    "nltk_data[1]"
   ]
  },
  {
   "cell_type": "code",
   "execution_count": 58,
   "metadata": {},
   "outputs": [],
   "source": [
    "# split data into training and validation and test set\n",
    "train_set,test_set = train_test_split(nltk_data,train_size=0.85,test_size=0.15,random_state=101)\n",
    "train_set,val_set = train_test_split(nltk_data,train_size=0.80,test_size=0.20,random_state=101)"
   ]
  },
  {
   "cell_type": "markdown",
   "metadata": {},
   "source": [
    "### Define Features for feature function:\n",
    "\n",
    "The following features are defined:\n",
    "* word: the word itself.\n",
    "* pos: POS tag of the word.\n",
    "* prevword: previous word.\n",
    "* prevpos: POS tag of previous word.\n",
    "* prev2word: second previous word to the given word.\n",
    "* prev2pos: POS tag of second previous word.\n",
    "* nextword: next word.\n",
    "* nextpos: POS tag of next word.\n",
    "* pref_1, pref_2, pref_3, pref_4: 1,2,3 and 4 lenght prefix of the word.\n",
    "* suff_1, suff_2, suff_3, suff_4: 1,2,3 and 4 lenght suffix of the word."
   ]
  },
  {
   "cell_type": "code",
   "execution_count": 59,
   "metadata": {},
   "outputs": [],
   "source": [
    "# extract features from a given sentence\n",
    "def word_features(sent, i):\n",
    "    word = sent[i][0]\n",
    "    pos = sent[i][1]\n",
    "    \n",
    "    # first word\n",
    "    if i==0:\n",
    "        prevword = '<START>'\n",
    "        prevpos = '<START>'\n",
    "    else:\n",
    "        prevword = sent[i-1][0]\n",
    "        prevpos = sent[i-1][1]\n",
    "        \n",
    "    # first word\n",
    "    if i==0 or i==1:\n",
    "        prev2word = '<START>'\n",
    "        prev2pos = '<START>'\n",
    "    else:\n",
    "        prev2word = sent[i-2][0]\n",
    "        prev2pos = sent[i-2][1]\n",
    "    \n",
    "    # last word\n",
    "    if i == len(sent)-1:\n",
    "        nextword = '<END>'\n",
    "        nextpos = '<END>'\n",
    "    else:\n",
    "        nextword = sent[i+1][0]\n",
    "        nextpos = sent[i+1][1]\n",
    "    \n",
    "    # suffixes and prefixes\n",
    "    pref_1, pref_2, pref_3, pref_4 = word[:1], word[:2], word[:3], word[:4]\n",
    "    suff_1, suff_2, suff_3, suff_4 = word[-1:], word[-2:], word[-3:], word[-4:]\n",
    "    \n",
    "    rule_state = rule_based_tagger.tag([word])[0][1]\n",
    "    \n",
    "    return {'word':word,            \n",
    "            'prevword': prevword,\n",
    "            'prevpos': prevpos,  \n",
    "            'nextword': nextword, \n",
    "            'nextpos': nextpos,          \n",
    "            'suff_1': suff_1,  \n",
    "            'suff_2': suff_2,  \n",
    "            'suff_3': suff_3,  \n",
    "            'suff_4': suff_4, \n",
    "            'pref_1': pref_1,  \n",
    "            'pref_2': pref_2,  \n",
    "            'pref_3': pref_3, \n",
    "            'pref_4': pref_4,\n",
    "            'prev2word': prev2word,\n",
    "            'prev2pos': prev2pos           \n",
    "           }  "
   ]
  },
  {
   "cell_type": "code",
   "execution_count": 60,
   "metadata": {},
   "outputs": [
    {
     "name": "stdout",
     "output_type": "stream",
     "text": [
      "[('This', 'DET'), ('test', 'NOUN'), ('method', 'NOUN'), ('is', 'VERB'), ('intended', 'VERB')]\n"
     ]
    },
    {
     "data": {
      "text/plain": [
       "{'word': 'is',\n",
       " 'prevword': 'method',\n",
       " 'prevpos': 'NOUN',\n",
       " 'nextword': 'intended',\n",
       " 'nextpos': 'VERB',\n",
       " 'suff_1': 's',\n",
       " 'suff_2': 'is',\n",
       " 'suff_3': 'is',\n",
       " 'suff_4': 'is',\n",
       " 'pref_1': 'i',\n",
       " 'pref_2': 'is',\n",
       " 'pref_3': 'is',\n",
       " 'pref_4': 'is',\n",
       " 'prev2word': 'test',\n",
       " 'prev2pos': 'NOUN'}"
      ]
     },
     "execution_count": 60,
     "metadata": {},
     "output_type": "execute_result"
    }
   ],
   "source": [
    "# let's check if our word feature is working correctly:\n",
    "print(train_set[0][0:5])\n",
    "\n",
    "word_features(train_set[0],3)"
   ]
  },
  {
   "cell_type": "code",
   "execution_count": 61,
   "metadata": {},
   "outputs": [],
   "source": [
    "# defining a few more functions to extract featrues, postags and words from sentences\n",
    "\n",
    "def sent2features(sent):\n",
    "    return [word_features(sent, i) for i in range(len(sent))]\n",
    "\n",
    "def sent2labels(sent):\n",
    "    return [postag for word, postag in sent]\n",
    "\n",
    "def sent2tokens(sent):\n",
    "    return [word for word, postag in sent]    "
   ]
  },
  {
   "cell_type": "code",
   "execution_count": 62,
   "metadata": {},
   "outputs": [],
   "source": [
    " # create training, validation and test sets\n",
    "X_train = [sent2features(s) for s in train_set]\n",
    "y_train = [sent2labels(s) for s in train_set]\n",
    "\n",
    "X_valid = [sent2features(s) for s in val_set]\n",
    "y_valid = [sent2labels(s) for s in val_set]\n",
    "\n",
    "X_test = [sent2features(s) for s in test_set]\n",
    "y_test = [sent2labels(s) for s in test_set]"
   ]
  },
  {
   "cell_type": "code",
   "execution_count": 85,
   "metadata": {},
   "outputs": [
    {
     "name": "stdout",
     "output_type": "stream",
     "text": [
      "[{'word': 'This', 'prevword': '<START>', 'prevpos': '<START>', 'nextword': 'test', 'nextpos': 'NOUN', 'suff_1': 's', 'suff_2': 'is', 'suff_3': 'his', 'suff_4': 'This', 'pref_1': 'T', 'pref_2': 'Th', 'pref_3': 'Thi', 'pref_4': 'This', 'prev2word': '<START>', 'prev2pos': '<START>'}, {'word': 'test', 'prevword': 'This', 'prevpos': 'DET', 'nextword': 'method', 'nextpos': 'NOUN', 'suff_1': 't', 'suff_2': 'st', 'suff_3': 'est', 'suff_4': 'test', 'pref_1': 't', 'pref_2': 'te', 'pref_3': 'tes', 'pref_4': 'test', 'prev2word': '<START>', 'prev2pos': '<START>'}, {'word': 'method', 'prevword': 'test', 'prevpos': 'NOUN', 'nextword': 'is', 'nextpos': 'VERB', 'suff_1': 'd', 'suff_2': 'od', 'suff_3': 'hod', 'suff_4': 'thod', 'pref_1': 'm', 'pref_2': 'me', 'pref_3': 'met', 'pref_4': 'meth', 'prev2word': 'This', 'prev2pos': 'DET'}, {'word': 'is', 'prevword': 'method', 'prevpos': 'NOUN', 'nextword': 'intended', 'nextpos': 'VERB', 'suff_1': 's', 'suff_2': 'is', 'suff_3': 'is', 'suff_4': 'is', 'pref_1': 'i', 'pref_2': 'is', 'pref_3': 'is', 'pref_4': 'is', 'prev2word': 'test', 'prev2pos': 'NOUN'}, {'word': 'intended', 'prevword': 'is', 'prevpos': 'VERB', 'nextword': 'for', 'nextpos': 'ADP', 'suff_1': 'd', 'suff_2': 'ed', 'suff_3': 'ded', 'suff_4': 'nded', 'pref_1': 'i', 'pref_2': 'in', 'pref_3': 'int', 'pref_4': 'inte', 'prev2word': 'method', 'prev2pos': 'NOUN'}, {'word': 'for', 'prevword': 'intended', 'prevpos': 'VERB', 'nextword': 'determining', 'nextpos': 'VERB', 'suff_1': 'r', 'suff_2': 'or', 'suff_3': 'for', 'suff_4': 'for', 'pref_1': 'f', 'pref_2': 'fo', 'pref_3': 'for', 'pref_4': 'for', 'prev2word': 'is', 'prev2pos': 'VERB'}, {'word': 'determining', 'prevword': 'for', 'prevpos': 'ADP', 'nextword': 'the', 'nextpos': 'DET', 'suff_1': 'g', 'suff_2': 'ng', 'suff_3': 'ing', 'suff_4': 'ning', 'pref_1': 'd', 'pref_2': 'de', 'pref_3': 'det', 'pref_4': 'dete', 'prev2word': 'intended', 'prev2pos': 'VERB'}, {'word': 'the', 'prevword': 'determining', 'prevpos': 'VERB', 'nextword': 'dimensional', 'nextpos': 'ADJ', 'suff_1': 'e', 'suff_2': 'he', 'suff_3': 'the', 'suff_4': 'the', 'pref_1': 't', 'pref_2': 'th', 'pref_3': 'the', 'pref_4': 'the', 'prev2word': 'for', 'prev2pos': 'ADP'}, {'word': 'dimensional', 'prevword': 'the', 'prevpos': 'DET', 'nextword': 'changes', 'nextpos': 'NOUN', 'suff_1': 'l', 'suff_2': 'al', 'suff_3': 'nal', 'suff_4': 'onal', 'pref_1': 'd', 'pref_2': 'di', 'pref_3': 'dim', 'pref_4': 'dime', 'prev2word': 'determining', 'prev2pos': 'VERB'}, {'word': 'changes', 'prevword': 'dimensional', 'prevpos': 'ADJ', 'nextword': 'of', 'nextpos': 'ADP', 'suff_1': 's', 'suff_2': 'es', 'suff_3': 'ges', 'suff_4': 'nges', 'pref_1': 'c', 'pref_2': 'ch', 'pref_3': 'cha', 'pref_4': 'chan', 'prev2word': 'the', 'prev2pos': 'DET'}]\n"
     ]
    }
   ],
   "source": [
    "# check the train set produced\n",
    "print(X_train[0][0:10])"
   ]
  },
  {
   "cell_type": "code",
   "execution_count": 86,
   "metadata": {},
   "outputs": [
    {
     "data": {
      "text/plain": [
       "['DET', 'NOUN', 'NOUN', 'VERB', 'VERB', 'ADP', 'VERB', 'DET', 'ADJ', 'NOUN']"
      ]
     },
     "execution_count": 86,
     "metadata": {},
     "output_type": "execute_result"
    }
   ],
   "source": [
    "y_train[0][0:10]"
   ]
  },
  {
   "cell_type": "markdown",
   "metadata": {},
   "source": [
    "### 1. Build CRF model"
   ]
  },
  {
   "cell_type": "code",
   "execution_count": 65,
   "metadata": {},
   "outputs": [
    {
     "data": {
      "text/plain": [
       "CRF(algorithm='lbfgs', all_possible_states=None,\n",
       "  all_possible_transitions=True, averaging=None, c=None, c1=0.01, c2=0.1,\n",
       "  calibration_candidates=None, calibration_eta=None,\n",
       "  calibration_max_trials=None, calibration_rate=None,\n",
       "  calibration_samples=None, delta=None, epsilon=None, error_sensitive=None,\n",
       "  gamma=None, keep_tempfiles=None, linesearch=None, max_iterations=100,\n",
       "  max_linesearch=None, min_freq=None, model_filename=None,\n",
       "  num_memories=None, pa_type=None, period=None, trainer_cls=None,\n",
       "  variance=None, verbose=False)"
      ]
     },
     "execution_count": 65,
     "metadata": {},
     "output_type": "execute_result"
    }
   ],
   "source": [
    "# fitting crf with arbitrary hyperparameters\n",
    "crf = sklearn_crfsuite.CRF(\n",
    "    algorithm='lbfgs',\n",
    "    c1=0.01,\n",
    "    c2=0.1,\n",
    "    max_iterations=100,\n",
    "    all_possible_transitions=True   \n",
    ")\n",
    "crf.fit(X_train, y_train)"
   ]
  },
  {
   "cell_type": "code",
   "execution_count": 67,
   "metadata": {},
   "outputs": [],
   "source": [
    "labels = list(crf.classes_)"
   ]
  },
  {
   "cell_type": "code",
   "execution_count": 69,
   "metadata": {},
   "outputs": [
    {
     "data": {
      "text/plain": [
       "0.9741010228208348"
      ]
     },
     "execution_count": 69,
     "metadata": {},
     "output_type": "execute_result"
    }
   ],
   "source": [
    "# make predictions \n",
    "y_pred = crf.predict(X_valid)\n",
    "metrics.flat_f1_score(y_valid, y_pred,\n",
    "                      average='weighted', labels=labels)"
   ]
  },
  {
   "cell_type": "code",
   "execution_count": 70,
   "metadata": {},
   "outputs": [
    {
     "name": "stdout",
     "output_type": "stream",
     "text": [
      "             precision    recall  f1-score   support\n",
      "\n",
      "          .      1.000     1.000     1.000     38304\n",
      "          X      0.985     0.948     0.966      1508\n",
      "        ADJ      0.938     0.930     0.934     21703\n",
      "        ADP      0.969     0.979     0.974     36847\n",
      "        ADV      0.949     0.934     0.941     13796\n",
      "       VERB      0.981     0.977     0.979     46827\n",
      "        DET      0.978     0.984     0.981     34166\n",
      "       CONJ      0.995     0.996     0.995      9447\n",
      "       NOUN      0.976     0.981     0.978     77111\n",
      "       PRON      0.974     0.948     0.961     11946\n",
      "        PRT      0.915     0.897     0.906      8240\n",
      "        NUM      0.987     0.992     0.989      5537\n",
      "\n",
      "avg / total      0.974     0.974     0.974    305432\n",
      "\n"
     ]
    }
   ],
   "source": [
    "# class-wise scores\n",
    "sorted_labels = sorted(\n",
    "    labels,\n",
    "    key=lambda name: (name[1:], name[0])\n",
    ")\n",
    "print(metrics.flat_classification_report(\n",
    "    y_valid, y_pred, labels=sorted_labels, digits=3\n",
    "))"
   ]
  },
  {
   "cell_type": "markdown",
   "metadata": {},
   "source": [
    "We saw that good accuracy was achieved without any hyperparameter tuning, let's do grid search for optimal hyperparameters."
   ]
  },
  {
   "cell_type": "code",
   "execution_count": 71,
   "metadata": {},
   "outputs": [],
   "source": [
    "# hyperparameter tuning\n",
    "\n",
    "# define fixed parameters and parameters to search\n",
    "crf = sklearn_crfsuite.CRF(\n",
    "    algorithm='lbfgs',\n",
    "    max_iterations=100,\n",
    "    all_possible_transitions=True\n",
    ")\n",
    "\n",
    "# parameters to tune\n",
    "params_space = {\n",
    "    'c1': [0.01, 0.1, 1],\n",
    "    'c2': [0.01, 0.1, 1]\n",
    "}\n",
    "\n",
    "# use the same metric for evaluation\n",
    "f1_scorer = scorers.make_scorer(metrics.flat_f1_score,\n",
    "                        average='weighted', labels=labels)"
   ]
  },
  {
   "cell_type": "code",
   "execution_count": 72,
   "metadata": {},
   "outputs": [
    {
     "name": "stdout",
     "output_type": "stream",
     "text": [
      "Fitting 3 folds for each of 9 candidates, totalling 27 fits\n"
     ]
    },
    {
     "name": "stderr",
     "output_type": "stream",
     "text": [
      "[Parallel(n_jobs=3)]: Done  27 out of  27 | elapsed: 81.7min finished\n"
     ]
    },
    {
     "data": {
      "text/plain": [
       "GridSearchCV(cv=3, error_score='raise',\n",
       "       estimator=CRF(algorithm='lbfgs', all_possible_states=None,\n",
       "  all_possible_transitions=True, averaging=None, c=None, c1=None, c2=None,\n",
       "  calibration_candidates=None, calibration_eta=None,\n",
       "  calibration_max_trials=None, calibration_rate=None,\n",
       "  calibration_samples=None, delta=None, epsilon=None, error...e,\n",
       "  num_memories=None, pa_type=None, period=None, trainer_cls=None,\n",
       "  variance=None, verbose=False),\n",
       "       fit_params=None, iid=True, n_jobs=3,\n",
       "       param_grid={'c1': [0.01, 0.1, 1], 'c2': [0.01, 0.1, 1]},\n",
       "       pre_dispatch='2*n_jobs', refit=True, return_train_score=True,\n",
       "       scoring=make_scorer(flat_f1_score, average=weighted, labels=['DET', 'NOUN', 'VERB', 'ADP', 'ADJ', 'CONJ', '.', 'PRT', 'ADV', 'NUM', 'PRON', 'X']),\n",
       "       verbose=1)"
      ]
     },
     "execution_count": 72,
     "metadata": {},
     "output_type": "execute_result"
    }
   ],
   "source": [
    "# instantiate a GridSearchCV object\n",
    "rs = GridSearchCV(crf, \n",
    "                  params_space,\n",
    "                  cv=3,\n",
    "                  verbose=1,\n",
    "                  n_jobs=3,\n",
    "                  scoring=f1_scorer, \n",
    "                  return_train_score=True\n",
    "                  )\n",
    "# fit\n",
    "rs.fit(X_train, y_train)"
   ]
  },
  {
   "cell_type": "code",
   "execution_count": 73,
   "metadata": {},
   "outputs": [
    {
     "data": {
      "text/html": [
       "<div>\n",
       "<style scoped>\n",
       "    .dataframe tbody tr th:only-of-type {\n",
       "        vertical-align: middle;\n",
       "    }\n",
       "\n",
       "    .dataframe tbody tr th {\n",
       "        vertical-align: top;\n",
       "    }\n",
       "\n",
       "    .dataframe thead th {\n",
       "        text-align: right;\n",
       "    }\n",
       "</style>\n",
       "<table border=\"1\" class=\"dataframe\">\n",
       "  <thead>\n",
       "    <tr style=\"text-align: right;\">\n",
       "      <th></th>\n",
       "      <th>mean_fit_time</th>\n",
       "      <th>std_fit_time</th>\n",
       "      <th>mean_score_time</th>\n",
       "      <th>std_score_time</th>\n",
       "      <th>param_c1</th>\n",
       "      <th>param_c2</th>\n",
       "      <th>params</th>\n",
       "      <th>split0_test_score</th>\n",
       "      <th>split1_test_score</th>\n",
       "      <th>split2_test_score</th>\n",
       "      <th>mean_test_score</th>\n",
       "      <th>std_test_score</th>\n",
       "      <th>rank_test_score</th>\n",
       "      <th>split0_train_score</th>\n",
       "      <th>split1_train_score</th>\n",
       "      <th>split2_train_score</th>\n",
       "      <th>mean_train_score</th>\n",
       "      <th>std_train_score</th>\n",
       "    </tr>\n",
       "  </thead>\n",
       "  <tbody>\n",
       "    <tr>\n",
       "      <th>0</th>\n",
       "      <td>467.537247</td>\n",
       "      <td>5.081716</td>\n",
       "      <td>16.367672</td>\n",
       "      <td>0.967780</td>\n",
       "      <td>0.01</td>\n",
       "      <td>0.01</td>\n",
       "      <td>{'c1': 0.01, 'c2': 0.01}</td>\n",
       "      <td>0.969676</td>\n",
       "      <td>0.970146</td>\n",
       "      <td>0.969554</td>\n",
       "      <td>0.969792</td>\n",
       "      <td>0.000255</td>\n",
       "      <td>8</td>\n",
       "      <td>0.996019</td>\n",
       "      <td>0.995943</td>\n",
       "      <td>0.995900</td>\n",
       "      <td>0.995954</td>\n",
       "      <td>0.000049</td>\n",
       "    </tr>\n",
       "    <tr>\n",
       "      <th>1</th>\n",
       "      <td>467.842181</td>\n",
       "      <td>9.940968</td>\n",
       "      <td>15.370219</td>\n",
       "      <td>1.712391</td>\n",
       "      <td>0.01</td>\n",
       "      <td>0.1</td>\n",
       "      <td>{'c1': 0.01, 'c2': 0.1}</td>\n",
       "      <td>0.972447</td>\n",
       "      <td>0.972388</td>\n",
       "      <td>0.971897</td>\n",
       "      <td>0.972244</td>\n",
       "      <td>0.000247</td>\n",
       "      <td>2</td>\n",
       "      <td>0.993385</td>\n",
       "      <td>0.993322</td>\n",
       "      <td>0.993406</td>\n",
       "      <td>0.993371</td>\n",
       "      <td>0.000036</td>\n",
       "    </tr>\n",
       "    <tr>\n",
       "      <th>2</th>\n",
       "      <td>475.799096</td>\n",
       "      <td>7.578790</td>\n",
       "      <td>13.864925</td>\n",
       "      <td>0.084239</td>\n",
       "      <td>0.01</td>\n",
       "      <td>1</td>\n",
       "      <td>{'c1': 0.01, 'c2': 1}</td>\n",
       "      <td>0.971253</td>\n",
       "      <td>0.971310</td>\n",
       "      <td>0.970707</td>\n",
       "      <td>0.971090</td>\n",
       "      <td>0.000272</td>\n",
       "      <td>6</td>\n",
       "      <td>0.980831</td>\n",
       "      <td>0.981007</td>\n",
       "      <td>0.981101</td>\n",
       "      <td>0.980980</td>\n",
       "      <td>0.000112</td>\n",
       "    </tr>\n",
       "    <tr>\n",
       "      <th>3</th>\n",
       "      <td>475.411781</td>\n",
       "      <td>4.384509</td>\n",
       "      <td>13.813850</td>\n",
       "      <td>0.337276</td>\n",
       "      <td>0.1</td>\n",
       "      <td>0.01</td>\n",
       "      <td>{'c1': 0.1, 'c2': 0.01}</td>\n",
       "      <td>0.971444</td>\n",
       "      <td>0.971720</td>\n",
       "      <td>0.971195</td>\n",
       "      <td>0.971453</td>\n",
       "      <td>0.000215</td>\n",
       "      <td>3</td>\n",
       "      <td>0.995177</td>\n",
       "      <td>0.995150</td>\n",
       "      <td>0.995175</td>\n",
       "      <td>0.995167</td>\n",
       "      <td>0.000012</td>\n",
       "    </tr>\n",
       "    <tr>\n",
       "      <th>4</th>\n",
       "      <td>476.910408</td>\n",
       "      <td>4.320969</td>\n",
       "      <td>14.140330</td>\n",
       "      <td>0.230516</td>\n",
       "      <td>0.1</td>\n",
       "      <td>0.1</td>\n",
       "      <td>{'c1': 0.1, 'c2': 0.1}</td>\n",
       "      <td>0.972584</td>\n",
       "      <td>0.972634</td>\n",
       "      <td>0.972072</td>\n",
       "      <td>0.972430</td>\n",
       "      <td>0.000254</td>\n",
       "      <td>1</td>\n",
       "      <td>0.992231</td>\n",
       "      <td>0.992224</td>\n",
       "      <td>0.992249</td>\n",
       "      <td>0.992235</td>\n",
       "      <td>0.000011</td>\n",
       "    </tr>\n",
       "    <tr>\n",
       "      <th>5</th>\n",
       "      <td>474.034696</td>\n",
       "      <td>4.043682</td>\n",
       "      <td>15.248725</td>\n",
       "      <td>1.806868</td>\n",
       "      <td>0.1</td>\n",
       "      <td>1</td>\n",
       "      <td>{'c1': 0.1, 'c2': 1}</td>\n",
       "      <td>0.971015</td>\n",
       "      <td>0.971052</td>\n",
       "      <td>0.970509</td>\n",
       "      <td>0.970859</td>\n",
       "      <td>0.000248</td>\n",
       "      <td>7</td>\n",
       "      <td>0.979920</td>\n",
       "      <td>0.980069</td>\n",
       "      <td>0.980154</td>\n",
       "      <td>0.980048</td>\n",
       "      <td>0.000097</td>\n",
       "    </tr>\n",
       "    <tr>\n",
       "      <th>6</th>\n",
       "      <td>463.119183</td>\n",
       "      <td>5.116571</td>\n",
       "      <td>14.002142</td>\n",
       "      <td>0.542868</td>\n",
       "      <td>1</td>\n",
       "      <td>0.01</td>\n",
       "      <td>{'c1': 1, 'c2': 0.01}</td>\n",
       "      <td>0.971535</td>\n",
       "      <td>0.971597</td>\n",
       "      <td>0.971148</td>\n",
       "      <td>0.971427</td>\n",
       "      <td>0.000199</td>\n",
       "      <td>4</td>\n",
       "      <td>0.978668</td>\n",
       "      <td>0.978594</td>\n",
       "      <td>0.978665</td>\n",
       "      <td>0.978642</td>\n",
       "      <td>0.000034</td>\n",
       "    </tr>\n",
       "    <tr>\n",
       "      <th>7</th>\n",
       "      <td>503.507508</td>\n",
       "      <td>7.961410</td>\n",
       "      <td>27.923450</td>\n",
       "      <td>11.615542</td>\n",
       "      <td>1</td>\n",
       "      <td>0.1</td>\n",
       "      <td>{'c1': 1, 'c2': 0.1}</td>\n",
       "      <td>0.971316</td>\n",
       "      <td>0.971289</td>\n",
       "      <td>0.970874</td>\n",
       "      <td>0.971159</td>\n",
       "      <td>0.000202</td>\n",
       "      <td>5</td>\n",
       "      <td>0.977680</td>\n",
       "      <td>0.977541</td>\n",
       "      <td>0.977701</td>\n",
       "      <td>0.977640</td>\n",
       "      <td>0.000071</td>\n",
       "    </tr>\n",
       "    <tr>\n",
       "      <th>8</th>\n",
       "      <td>497.864503</td>\n",
       "      <td>7.563105</td>\n",
       "      <td>16.381788</td>\n",
       "      <td>3.276385</td>\n",
       "      <td>1</td>\n",
       "      <td>1</td>\n",
       "      <td>{'c1': 1, 'c2': 1}</td>\n",
       "      <td>0.969250</td>\n",
       "      <td>0.969139</td>\n",
       "      <td>0.968881</td>\n",
       "      <td>0.969090</td>\n",
       "      <td>0.000154</td>\n",
       "      <td>9</td>\n",
       "      <td>0.973378</td>\n",
       "      <td>0.973311</td>\n",
       "      <td>0.973642</td>\n",
       "      <td>0.973444</td>\n",
       "      <td>0.000143</td>\n",
       "    </tr>\n",
       "  </tbody>\n",
       "</table>\n",
       "</div>"
      ],
      "text/plain": [
       "   mean_fit_time  std_fit_time  mean_score_time  std_score_time param_c1  \\\n",
       "0     467.537247      5.081716        16.367672        0.967780     0.01   \n",
       "1     467.842181      9.940968        15.370219        1.712391     0.01   \n",
       "2     475.799096      7.578790        13.864925        0.084239     0.01   \n",
       "3     475.411781      4.384509        13.813850        0.337276      0.1   \n",
       "4     476.910408      4.320969        14.140330        0.230516      0.1   \n",
       "5     474.034696      4.043682        15.248725        1.806868      0.1   \n",
       "6     463.119183      5.116571        14.002142        0.542868        1   \n",
       "7     503.507508      7.961410        27.923450       11.615542        1   \n",
       "8     497.864503      7.563105        16.381788        3.276385        1   \n",
       "\n",
       "  param_c2                    params  split0_test_score  split1_test_score  \\\n",
       "0     0.01  {'c1': 0.01, 'c2': 0.01}           0.969676           0.970146   \n",
       "1      0.1   {'c1': 0.01, 'c2': 0.1}           0.972447           0.972388   \n",
       "2        1     {'c1': 0.01, 'c2': 1}           0.971253           0.971310   \n",
       "3     0.01   {'c1': 0.1, 'c2': 0.01}           0.971444           0.971720   \n",
       "4      0.1    {'c1': 0.1, 'c2': 0.1}           0.972584           0.972634   \n",
       "5        1      {'c1': 0.1, 'c2': 1}           0.971015           0.971052   \n",
       "6     0.01     {'c1': 1, 'c2': 0.01}           0.971535           0.971597   \n",
       "7      0.1      {'c1': 1, 'c2': 0.1}           0.971316           0.971289   \n",
       "8        1        {'c1': 1, 'c2': 1}           0.969250           0.969139   \n",
       "\n",
       "   split2_test_score  mean_test_score  std_test_score  rank_test_score  \\\n",
       "0           0.969554         0.969792        0.000255                8   \n",
       "1           0.971897         0.972244        0.000247                2   \n",
       "2           0.970707         0.971090        0.000272                6   \n",
       "3           0.971195         0.971453        0.000215                3   \n",
       "4           0.972072         0.972430        0.000254                1   \n",
       "5           0.970509         0.970859        0.000248                7   \n",
       "6           0.971148         0.971427        0.000199                4   \n",
       "7           0.970874         0.971159        0.000202                5   \n",
       "8           0.968881         0.969090        0.000154                9   \n",
       "\n",
       "   split0_train_score  split1_train_score  split2_train_score  \\\n",
       "0            0.996019            0.995943            0.995900   \n",
       "1            0.993385            0.993322            0.993406   \n",
       "2            0.980831            0.981007            0.981101   \n",
       "3            0.995177            0.995150            0.995175   \n",
       "4            0.992231            0.992224            0.992249   \n",
       "5            0.979920            0.980069            0.980154   \n",
       "6            0.978668            0.978594            0.978665   \n",
       "7            0.977680            0.977541            0.977701   \n",
       "8            0.973378            0.973311            0.973642   \n",
       "\n",
       "   mean_train_score  std_train_score  \n",
       "0          0.995954         0.000049  \n",
       "1          0.993371         0.000036  \n",
       "2          0.980980         0.000112  \n",
       "3          0.995167         0.000012  \n",
       "4          0.992235         0.000011  \n",
       "5          0.980048         0.000097  \n",
       "6          0.978642         0.000034  \n",
       "7          0.977640         0.000071  \n",
       "8          0.973444         0.000143  "
      ]
     },
     "execution_count": 73,
     "metadata": {},
     "output_type": "execute_result"
    }
   ],
   "source": [
    "# store CV results in a DF\n",
    "cv_results = pd.DataFrame(rs.cv_results_)\n",
    "cv_results"
   ]
  },
  {
   "cell_type": "code",
   "execution_count": 88,
   "metadata": {},
   "outputs": [
    {
     "data": {
      "image/png": "[encoded data removed]",
      "text/plain": [
       "<Figure size 1152x432 with 3 Axes>"
      ]
     },
     "metadata": {},
     "output_type": "display_data"
    }
   ],
   "source": [
    "# plotting CV results\n",
    "# for each value of c2, make a plot of c1 versus train and test f1-score\n",
    "\n",
    "plt.figure(figsize=(16,6))\n",
    "\n",
    "for i, val in enumerate(params_space['c2']):\n",
    "   \n",
    "    # subplot 1/3/i\n",
    "    plt.subplot(1, 3, i+1)\n",
    "    c2_subset = cv_results[cv_results['param_c2']==val]\n",
    "\n",
    "    plt.plot(c2_subset[\"param_c1\"], c2_subset[\"mean_test_score\"])\n",
    "    plt.plot(c2_subset[\"param_c1\"], c2_subset[\"mean_train_score\"])\n",
    "    plt.xlabel('c1')\n",
    "    plt.ylabel('Mean F-score')\n",
    "    plt.title(\"c2={0}\".format(val))\n",
    "    plt.ylim([0.965, 1])\n",
    "    plt.legend(['validation score', 'train score'], loc='upper left')\n",
    "    plt.xscale('log')"
   ]
  },
  {
   "cell_type": "markdown",
   "metadata": {},
   "source": [
    "The plot above shows that at very low values of c_1, the model overfits, as shown by the difference in training and test performance. Also, the test score seems to be slightly higher for c_2 = 0.1.\n",
    "\n",
    "Let's thus choose c_1 = 0.1 and c_2 = 0.1. "
   ]
  },
  {
   "cell_type": "code",
   "execution_count": 75,
   "metadata": {},
   "outputs": [
    {
     "data": {
      "text/plain": [
       "CRF(algorithm='lbfgs', all_possible_states=None,\n",
       "  all_possible_transitions=True, averaging=None, c=None, c1=0.1, c2=0.1,\n",
       "  calibration_candidates=None, calibration_eta=None,\n",
       "  calibration_max_trials=None, calibration_rate=None,\n",
       "  calibration_samples=None, delta=None, epsilon=None, error_sensitive=None,\n",
       "  gamma=None, keep_tempfiles=None, linesearch=None, max_iterations=100,\n",
       "  max_linesearch=None, min_freq=None, model_filename=None,\n",
       "  num_memories=None, pa_type=None, period=None, trainer_cls=None,\n",
       "  variance=None, verbose=False)"
      ]
     },
     "execution_count": 75,
     "metadata": {},
     "output_type": "execute_result"
    }
   ],
   "source": [
    "# building a model with optimal hyperparams\n",
    "crf = sklearn_crfsuite.CRF(\n",
    "    algorithm='lbfgs',\n",
    "    c1=0.1,\n",
    "    c2=0.1,\n",
    "    max_iterations=100,\n",
    "    all_possible_transitions=True\n",
    ")\n",
    "crf.fit(X_train, y_train)"
   ]
  },
  {
   "cell_type": "code",
   "execution_count": 76,
   "metadata": {},
   "outputs": [],
   "source": [
    "# save the model to a pickle file\n",
    "import _pickle as cPickle\n",
    "\n",
    "with open('tuned_crf_pos_tagger.pkl', 'wb') as clf:\n",
    "    try:\n",
    "        cPickle.dump(crf, clf)\n",
    "    except Exception as e:\n",
    "        print(e)\n",
    "    finally:\n",
    "        clf.close() "
   ]
  },
  {
   "cell_type": "markdown",
   "metadata": {},
   "source": [
    "### 2. Evaluate the model performance\n"
   ]
  },
  {
   "cell_type": "code",
   "execution_count": 77,
   "metadata": {},
   "outputs": [],
   "source": [
    "# load the trained model\n",
    "import _pickle as cPickle\n",
    "\n",
    "with open('tuned_crf_pos_tagger.pkl', 'rb') as fid:\n",
    "    crf = cPickle.load(fid)"
   ]
  },
  {
   "cell_type": "code",
   "execution_count": 78,
   "metadata": {},
   "outputs": [
    {
     "data": {
      "text/plain": [
       "0.9743218164217784"
      ]
     },
     "execution_count": 78,
     "metadata": {},
     "output_type": "execute_result"
    }
   ],
   "source": [
    "# make predictions on validation data\n",
    "y_pred = crf.predict(X_valid)\n",
    "metrics.flat_f1_score(y_valid, y_pred,\n",
    "                      average='weighted', labels=labels)"
   ]
  },
  {
   "cell_type": "markdown",
   "metadata": {},
   "source": [
    "The overall f1-score is comparable to that on training (cross-validation) data (which was about 97% on the test folds and 99% on training folds). Let's look at class-wise metrics as well."
   ]
  },
  {
   "cell_type": "code",
   "execution_count": 79,
   "metadata": {},
   "outputs": [
    {
     "name": "stdout",
     "output_type": "stream",
     "text": [
      "             precision    recall  f1-score   support\n",
      "\n",
      "          .      1.000     1.000     1.000     38304\n",
      "          X      0.984     0.952     0.967      1508\n",
      "        ADJ      0.936     0.930     0.933     21703\n",
      "        ADP      0.969     0.979     0.974     36847\n",
      "        ADV      0.950     0.935     0.942     13796\n",
      "       VERB      0.981     0.978     0.979     46827\n",
      "        DET      0.978     0.984     0.981     34166\n",
      "       CONJ      0.994     0.996     0.995      9447\n",
      "       NOUN      0.976     0.981     0.978     77111\n",
      "       PRON      0.975     0.947     0.961     11946\n",
      "        PRT      0.915     0.903     0.909      8240\n",
      "        NUM      0.986     0.993     0.990      5537\n",
      "\n",
      "avg / total      0.974     0.974     0.974    305432\n",
      "\n"
     ]
    }
   ],
   "source": [
    "# class-wise scores on validation data\n",
    "sorted_labels = sorted(\n",
    "    labels,\n",
    "    key=lambda name: (name[1:], name[0])\n",
    ")\n",
    "print(metrics.flat_classification_report(\n",
    "    y_valid, y_pred, labels=sorted_labels, digits=3\n",
    "))"
   ]
  },
  {
   "cell_type": "markdown",
   "metadata": {},
   "source": [
    "#### evaluating model on test data"
   ]
  },
  {
   "cell_type": "code",
   "execution_count": 80,
   "metadata": {},
   "outputs": [
    {
     "data": {
      "text/plain": [
       "0.974212618609641"
      ]
     },
     "execution_count": 80,
     "metadata": {},
     "output_type": "execute_result"
    }
   ],
   "source": [
    "# test data predictions\n",
    "# make predictions on validation data\n",
    "y_pred_test = crf.predict(X_test)\n",
    "metrics.flat_f1_score(y_test, y_pred_test,\n",
    "                      average='weighted', labels=labels)"
   ]
  },
  {
   "cell_type": "markdown",
   "metadata": {},
   "source": [
    "We can see from above that test data accuracy is very close to validation set accuracy."
   ]
  },
  {
   "cell_type": "markdown",
   "metadata": {},
   "source": [
    "### 3. Interpret the model (enlist important state and transition features)"
   ]
  },
  {
   "cell_type": "code",
   "execution_count": 81,
   "metadata": {},
   "outputs": [],
   "source": [
    "# import counter class from collections module\n",
    "from collections import Counter"
   ]
  },
  {
   "cell_type": "code",
   "execution_count": 82,
   "metadata": {},
   "outputs": [
    {
     "name": "stdout",
     "output_type": "stream",
     "text": [
      "Top positive:\n",
      "9.262594 ADJ      word:willing\n",
      "8.598845 .        suff_1:$\n",
      "7.914318 ADJ      word:interesting\n",
      "7.616985 DET      word:some\n",
      "7.371497 ADJ      word:lovely\n",
      "7.324203 VERB     word:consists\n",
      "7.305215 ADJ      suff_3:ous\n",
      "7.268793 PRT      suff_2:'d\n",
      "7.227447 NOUN     word:something\n",
      "7.124260 VERB     prevword:may\n",
      "7.021368 X        pref_1:*\n",
      "6.992546 VERB     prevword:could\n",
      "6.961264 ADJ      word:aware\n",
      "6.695958 ADV      suff_4:wise\n",
      "6.665385 VERB     prevword:didn't\n",
      "6.589618 .        pref_1:.\n",
      "6.474645 ADP      word:under\n",
      "6.402197 NOUN     suff_1:%\n",
      "6.383129 NOUN     word:year\n",
      "6.360044 VERB     prevword:wouldn't\n",
      "\n",
      "Top negative:\n",
      "-3.856606 X        nextword:0\n",
      "-3.956686 VERB     pref_4:self\n",
      "-3.987874 VERB     suff_4:less\n",
      "-4.001469 ADJ      pref_4:Unit\n",
      "-4.029186 NOUN     pref_4:litt\n",
      "-4.057932 ADP      nextword:Engine\n",
      "-4.110473 NOUN     pref_2:it\n",
      "-4.115595 VERB     suff_2:is\n",
      "-4.150205 NOUN     pref_2:ei\n",
      "-4.157736 X        nextword:*-1\n",
      "-4.189975 VERB     suff_2:us\n",
      "-4.193082 NOUN     word:least\n",
      "-4.278606 NOUN     suff_2:As\n",
      "-4.338561 X        nextword:*\n",
      "-4.482901 NOUN     pref_3:bec\n",
      "-4.516020 ADJ      pref_2:my\n",
      "-4.660623 NOUN     suff_3:his\n",
      "-4.889920 NOUN     pref_4:more\n",
      "-5.557682 NOUN     suff_4:less\n",
      "-7.047830 NOUN     pref_1:'\n"
     ]
    }
   ],
   "source": [
    "# important features\n",
    "def print_state_features(state_features):\n",
    "    for (attr, label), weight in state_features:\n",
    "        print(\"%0.6f %-8s %s\" % (weight, label, attr))\n",
    "\n",
    "print(\"Top positive:\")\n",
    "print_state_features(Counter(crf.state_features_).most_common(20))\n",
    "\n",
    "print(\"\\nTop negative:\")\n",
    "print_state_features(Counter(crf.state_features_).most_common()[-20:])"
   ]
  },
  {
   "cell_type": "markdown",
   "metadata": {},
   "source": [
    "We can see from above that some word feature combinations have very strong occurance:\n",
    "\n",
    "* willing as Adjective (ADJ)\n",
    "* suffix $ with '.'\n",
    "* interesting as Adjective (ADJ)\n",
    "* some as Determinant (DET)\n",
    "* lovely ad Adjective (ADJ)\n",
    "\n",
    "Similary, there are some word features combinations which are very unlikely:\n",
    "\n",
    "* nextword '0' with for POS tag X\n",
    "* pref_4: self for a Verb\n",
    "* pref_4: unit for an Adjective (ADJ)\n",
    "* pref_4: litt for a Noun"
   ]
  },
  {
   "cell_type": "code",
   "execution_count": 83,
   "metadata": {},
   "outputs": [
    {
     "name": "stdout",
     "output_type": "stream",
     "text": [
      "Top likely transitions:\n",
      "ADJ    -> NOUN    2.379253\n",
      "NOUN   -> NOUN    2.024561\n",
      "X      -> X       1.546455\n",
      "VERB   -> NOUN    1.545528\n",
      "DET    -> NOUN    1.451580\n",
      "ADP    -> NOUN    1.417971\n",
      "NUM    -> NOUN    1.361457\n",
      "NOUN   -> .       1.242768\n",
      "NOUN   -> VERB    1.219707\n",
      "NOUN   -> PRON    1.104968\n",
      "NOUN   -> PRT     1.089205\n",
      "NOUN   -> ADV     1.079454\n",
      "X      -> VERB    1.073886\n",
      "PRT    -> VERB    1.073648\n",
      "ADV    -> ADJ     0.992907\n",
      "X      -> NOUN    0.985434\n",
      "NOUN   -> ADP     0.933361\n",
      "PRT    -> NOUN    0.881958\n",
      "NOUN   -> NUM     0.847977\n",
      "PRON   -> VERB    0.826426\n",
      "\n",
      "Top unlikely transitions:\n",
      "ADV    -> PRON    -0.671316\n",
      "CONJ   -> PRON    -0.701904\n",
      "ADP    -> .       -0.713027\n",
      "PRON   -> PRON    -0.722607\n",
      "PRON   -> ADP     -0.769217\n",
      "NUM    -> DET     -0.810906\n",
      "PRON   -> CONJ    -0.849257\n",
      "DET    -> .       -0.849752\n",
      "DET    -> PRT     -0.859365\n",
      "X      -> NUM     -0.864570\n",
      "DET    -> DET     -0.877747\n",
      "PRT    -> CONJ    -0.930678\n",
      "CONJ   -> X       -1.024626\n",
      "NUM    -> PRON    -1.033381\n",
      "DET    -> PRON    -1.104296\n",
      "ADP    -> CONJ    -1.161366\n",
      "DET    -> CONJ    -1.221323\n",
      "DET    -> ADP     -1.228067\n",
      "CONJ   -> CONJ    -1.704912\n",
      "CONJ   -> .       -1.938877\n"
     ]
    }
   ],
   "source": [
    "def print_transitions(trans_features):\n",
    "    for (label_from, label_to), weight in trans_features:\n",
    "        print(\"%-6s -> %-7s %0.6f\" % (label_from, label_to, weight))\n",
    "\n",
    "print(\"Top likely transitions:\")\n",
    "print_transitions(Counter(crf.transition_features_).most_common(20))\n",
    "\n",
    "print(\"\\nTop unlikely transitions:\")\n",
    "print_transitions(Counter(crf.transition_features_).most_common()[-20:])"
   ]
  },
  {
   "cell_type": "markdown",
   "metadata": {},
   "source": [
    "We can see from above that some POS tag transitions are very likely:\n",
    "\n",
    "* Adjective to Noun\n",
    "* Noun to Noun\n",
    "* No POS tag (X) to No POS tag (X)\n",
    "* Verb to Noun\n",
    "\n",
    "we can also see that some POS tag transitions are very unlikely:\n",
    "\n",
    "* Adjective to Pronoun\n",
    "* Conjunction to Pronoun\n",
    "* Adposition to end of sentence\n",
    "* Pronoun to Pronoun"
   ]
  }
 ],
 "metadata": {
  "kernelspec": {
   "display_name": "Python 3",
   "language": "python",
   "name": "python3"
  },
  "language_info": {
   "codemirror_mode": {
    "name": "ipython",
    "version": 3
   },
   "file_extension": ".py",
   "mimetype": "text/x-python",
   "name": "python",
   "nbconvert_exporter": "python",
   "pygments_lexer": "ipython3",
   "version": "3.6.5"
  }
 },
 "nbformat": 4,
 "nbformat_minor": 2
}
